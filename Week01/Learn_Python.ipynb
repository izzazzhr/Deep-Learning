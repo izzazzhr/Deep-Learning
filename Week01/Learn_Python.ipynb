{
  "nbformat": 4,
  "nbformat_minor": 0,
  "metadata": {
    "colab": {
      "name": "Learn Python.ipynb",
      "provenance": [],
      "collapsed_sections": []
    },
    "kernelspec": {
      "name": "python3",
      "display_name": "Python 3"
    },
    "language_info": {
      "name": "python"
    }
  },
  "cells": [
    {
      "cell_type": "markdown",
      "source": [
        "Learn Python <br>\n",
        "Tutorial link: https://www.kaggle.com/colinmorris/hello-python"
      ],
      "metadata": {
        "id": "JcDTw4uo1cJJ"
      }
    },
    {
      "cell_type": "code",
      "execution_count": null,
      "metadata": {
        "colab": {
          "base_uri": "https://localhost:8080/"
        },
        "id": "kFM1fV3YxwRL",
        "outputId": "e684fdda-7453-4c37-960a-fad288735158"
      },
      "outputs": [
        {
          "output_type": "stream",
          "name": "stdout",
          "text": [
            "I've successfully run some Python code\n",
            "Yeay!\n"
          ]
        }
      ],
      "source": [
        "print(\"I've successfully run some Python code\")\n",
        "print(\"Yeay!\")"
      ]
    },
    {
      "cell_type": "code",
      "source": [
        "pi = 3.14159 # approximate\n",
        "diameter = 3\n",
        "\n",
        "# Create a variable called 'radius' equal to half the diameter\n",
        "\n",
        "radius = diameter/2\n",
        "\n",
        "# Create a variable called 'area', using the formula for the area of a circle: pi times the radius squared\n",
        "\n",
        "area = pi*radius**2\n",
        "print(area)"
      ],
      "metadata": {
        "colab": {
          "base_uri": "https://localhost:8080/"
        },
        "id": "fmHhcA8qyHpt",
        "outputId": "9dcb1c27-5ecc-44ce-a15d-4010c8b8d60f"
      },
      "execution_count": null,
      "outputs": [
        {
          "output_type": "stream",
          "name": "stdout",
          "text": [
            "7.0685775\n"
          ]
        }
      ]
    },
    {
      "cell_type": "markdown",
      "source": [
        "Add code to the following cell to swap variables a and b (so that a refers to the object previously referred to by b and vice versa)."
      ],
      "metadata": {
        "id": "eaDBpTEK0AuX"
      }
    },
    {
      "cell_type": "code",
      "source": [
        "a = [1, 2, 3]\n",
        "b = [3, 2, 1]\n",
        "\n",
        "a,b = b,a\n",
        "\n",
        "print(a)\n",
        "print(b)"
      ],
      "metadata": {
        "colab": {
          "base_uri": "https://localhost:8080/"
        },
        "id": "u2yUlnnDzfRx",
        "outputId": "84560199-8c12-407a-b690-ea4dbd1ce1b3"
      },
      "execution_count": null,
      "outputs": [
        {
          "output_type": "stream",
          "name": "stdout",
          "text": [
            "[3, 2, 1]\n",
            "[1, 2, 3]\n"
          ]
        }
      ]
    },
    {
      "cell_type": "markdown",
      "source": [
        "Add parentheses to the following expression so that it evaluates to 1."
      ],
      "metadata": {
        "id": "5ozioGtk0Z9M"
      }
    },
    {
      "cell_type": "code",
      "source": [
        "5 - 3 // 2"
      ],
      "metadata": {
        "colab": {
          "base_uri": "https://localhost:8080/"
        },
        "id": "W2yNHivo0GHo",
        "outputId": "923197b2-a339-42ca-e346-0fb7ceb1a706"
      },
      "execution_count": null,
      "outputs": [
        {
          "output_type": "execute_result",
          "data": {
            "text/plain": [
              "4"
            ]
          },
          "metadata": {},
          "execution_count": 9
        }
      ]
    },
    {
      "cell_type": "code",
      "source": [
        "(5 - 3) // 2"
      ],
      "metadata": {
        "colab": {
          "base_uri": "https://localhost:8080/"
        },
        "id": "QOi2ttrm0cNx",
        "outputId": "eb9f3bea-87a3-4ea8-89e8-1ad9ed461e91"
      },
      "execution_count": null,
      "outputs": [
        {
          "output_type": "execute_result",
          "data": {
            "text/plain": [
              "1"
            ]
          },
          "metadata": {},
          "execution_count": 10
        }
      ]
    },
    {
      "cell_type": "markdown",
      "source": [
        "Add parentheses to the following expression so that it evaluates to 0."
      ],
      "metadata": {
        "id": "cNMO0GOx0qKI"
      }
    },
    {
      "cell_type": "code",
      "source": [
        "8 - 3 * 2 - 1 + 1"
      ],
      "metadata": {
        "colab": {
          "base_uri": "https://localhost:8080/"
        },
        "id": "UZSYhLw609-D",
        "outputId": "1c2bb36b-3855-499e-9c30-3130fe7f6c77"
      },
      "execution_count": null,
      "outputs": [
        {
          "output_type": "execute_result",
          "data": {
            "text/plain": [
              "2"
            ]
          },
          "metadata": {},
          "execution_count": 14
        }
      ]
    },
    {
      "cell_type": "code",
      "source": [
        "8 - 3 * 2 - (1 + 1)"
      ],
      "metadata": {
        "colab": {
          "base_uri": "https://localhost:8080/"
        },
        "id": "G2F2F8zi0mIS",
        "outputId": "ee568385-05e6-4985-b2eb-17a4a03ed1f0"
      },
      "execution_count": null,
      "outputs": [
        {
          "output_type": "execute_result",
          "data": {
            "text/plain": [
              "0"
            ]
          },
          "metadata": {},
          "execution_count": 13
        }
      ]
    },
    {
      "cell_type": "markdown",
      "source": [
        "Alice, Bob and Carol have agreed to pool their Halloween candy and split it evenly among themselves. For the sake of their friendship, any candies left over will be smashed. For example, if they collectively bring home 91 candies, they'll take 30 each and smash 1.\n",
        "\n",
        "Write an arithmetic expression below to calculate how many candies they must smash for a given haul."
      ],
      "metadata": {
        "id": "u4n-S6771NXJ"
      }
    },
    {
      "cell_type": "code",
      "source": [
        "# Variables representing the number of candies collected by alice, bob, and carol\n",
        "alice_candies = 121\n",
        "bob_candies = 77\n",
        "carol_candies = 109\n",
        "\n",
        "# Your code goes here! Replace the right-hand side of this assignment with an expression\n",
        "# involving alice_candies, bob_candies, and carol_candies\n",
        "to_smash = (alice_candies+bob_candies+carol_candies)%3\n",
        "\n",
        "print(to_smash)"
      ],
      "metadata": {
        "colab": {
          "base_uri": "https://localhost:8080/"
        },
        "id": "3nXE1vCi0sTQ",
        "outputId": "3b03e9cb-61bc-469d-fbdc-7544ec26fc1c"
      },
      "execution_count": null,
      "outputs": [
        {
          "output_type": "stream",
          "name": "stdout",
          "text": [
            "1\n"
          ]
        }
      ]
    },
    {
      "cell_type": "code",
      "source": [
        ""
      ],
      "metadata": {
        "id": "29wptchF1qvj"
      },
      "execution_count": null,
      "outputs": []
    }
  ]
}